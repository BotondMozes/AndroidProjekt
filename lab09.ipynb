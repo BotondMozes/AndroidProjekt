{
  "nbformat": 4,
  "nbformat_minor": 0,
  "metadata": {
    "hide_input": false,
    "kernelspec": {
      "display_name": "Python 3",
      "language": "python",
      "name": "python3"
    },
    "language_info": {
      "codemirror_mode": {
        "name": "ipython",
        "version": 3
      },
      "file_extension": ".py",
      "mimetype": "text/x-python",
      "name": "python",
      "nbconvert_exporter": "python",
      "pygments_lexer": "ipython3",
      "version": "3.7.1"
    },
    "colab": {
      "name": "lab09.ipynb",
      "provenance": [],
      "collapsed_sections": [],
      "include_colab_link": true
    }
  },
  "cells": [
    {
      "cell_type": "markdown",
      "metadata": {
        "id": "view-in-github",
        "colab_type": "text"
      },
      "source": [
        "<a href=\"https://colab.research.google.com/github/BotondMozes/AndroidProjekt/blob/master/lab09.ipynb\" target=\"_parent\"><img src=\"https://colab.research.google.com/assets/colab-badge.svg\" alt=\"Open In Colab\"/></a>"
      ]
    },
    {
      "cell_type": "markdown",
      "metadata": {
        "id": "uXnfck1X5fzI"
      },
      "source": [
        "# FP-Growth algoritmus\n",
        "\n",
        "\n",
        "\n",
        "----\n"
      ]
    },
    {
      "cell_type": "markdown",
      "metadata": {
        "id": "pfChBnUs5fzJ"
      },
      "source": [
        "Az Apriori algoritmus lentről felfele építkezve, minden lépésben jelölteket generál. A jelöltek száma igencsak nagy lehet és előállításukhoz minden lépésben az adatbázist át kell olvasni.\n",
        "\n",
        "\n",
        "Az [FP-bővítés](https://gyires.inf.unideb.hu/KMITT/a04/ch06s06.html) (angol elnevezése [FP-Growth](https://www.softwaretestinghelp.com/fp-growth-algorithm-data-mining/)-) szintén egy gyakori elemhalmazok kinyerésére szolgáló algoritmus, amely hatékonyabb eredményt képes elérni, mivel nem a generál és tesztel paradigmát követi. Ehelyett az adathalmazt egy kompakt struktúrába sűríti, melynek neve az FP-fa (gyakori mintázatok fája), ezután a gyakori elemhalmazokat közvetlenül ebből a strúktúrából nyerhetőek ki. Az algoritmus csak kétszer kell végigolvassa az adatlhalmazt, elöszőr az elemek támogatottsági szintjének megállapítására, másodszor pedig az FP-fa felépítésére.  "
      ]
    },
    {
      "cell_type": "markdown",
      "metadata": {
        "id": "uQTugELQ5fzL"
      },
      "source": [
        "Az algoritmus egyik Python [implementációja](https://github.com/evandempsey/fp-growth) a [pygrowth](https://pypi.org/project/pygrowth/) csomagban érhető el. \n",
        "\n"
      ]
    },
    {
      "cell_type": "code",
      "metadata": {
        "id": "rWoO-2cQ5oHX",
        "colab": {
          "base_uri": "https://localhost:8080/"
        },
        "outputId": "1f6a1dfa-e2e1-4920-a163-53be39bdf6c4"
      },
      "source": [
        "!pip install pyfpgrowth"
      ],
      "execution_count": 1,
      "outputs": [
        {
          "output_type": "stream",
          "text": [
            "Collecting pyfpgrowth\n",
            "\u001b[?25l  Downloading https://files.pythonhosted.org/packages/d2/4c/8b7cd90b4118ff0286d6584909b99e1ca5642bdc9072fa5a8dd361c864a0/pyfpgrowth-1.0.tar.gz (1.6MB)\n",
            "\u001b[K     |████████████████████████████████| 1.6MB 8.2MB/s \n",
            "\u001b[?25hBuilding wheels for collected packages: pyfpgrowth\n",
            "  Building wheel for pyfpgrowth (setup.py) ... \u001b[?25l\u001b[?25hdone\n",
            "  Created wheel for pyfpgrowth: filename=pyfpgrowth-1.0-py2.py3-none-any.whl size=5477 sha256=c9b01337f6efb143939d6f877f632835ffc67ac2a1457af581f67213f40c849a\n",
            "  Stored in directory: /root/.cache/pip/wheels/3b/3f/0d/a04bb8b17887c1eca7d0f1a48d4aa0c09c96eb221ff7fa56c1\n",
            "Successfully built pyfpgrowth\n",
            "Installing collected packages: pyfpgrowth\n",
            "Successfully installed pyfpgrowth-1.0\n"
          ],
          "name": "stdout"
        }
      ]
    },
    {
      "cell_type": "markdown",
      "metadata": {
        "id": "r2heZeSllmVl"
      },
      "source": [
        "A gyakori minták meghatározására a `find_frequent_patterns` metódust használjuk míg az asszociációs szabályok kinyerésére a `generate_association_rules`-t. Ezekre építve könnyen definiálhatunk egy függvényt mely adott megakapozotság és megbizhatóság szerint megkeresi egy adathalmazból a kinyeri a gyakori mintákat és asszociációs szabályokat."
      ]
    },
    {
      "cell_type": "code",
      "metadata": {
        "id": "tFSBUmthlnQw"
      },
      "source": [
        "import pyfpgrowth as fpg\n",
        "\n",
        "def mine_fp_growth_association_rules(records, minsup, minconf):\n",
        "    freq_patterns = fpg.find_frequent_patterns(records, minsup * len(records))\n",
        "    rules = fpg.generate_association_rules(freq_patterns, minconf)\n",
        "    return (freq_patterns, rules)\n",
        "\n",
        "# example usage: patterns, rules = mine_fp_growth_association_rules(records, 0.01, 0.1)"
      ],
      "execution_count": 2,
      "outputs": []
    },
    {
      "cell_type": "markdown",
      "metadata": {
        "id": "YmiYFeQpp_Ns"
      },
      "source": [
        "# Feladatok\n",
        "\n",
        "1. Olvassa el a következő cikkeket és röviden vázolja fel a fő különbségeket az Apriori és FP-Growth módszerek között, ismertesse az FP-Growth előnyeit és hátrányait:    \n",
        "  - [Az FP-bővítés algoritmus](https://gyires.inf.unideb.hu/KMITT/a04/ch06s06.html)\n",
        "  - [Frequent Pattern (FP) Growth Algorithm In Data Mining](https://www.softwaretestinghelp.com/fp-growth-algorithm-data-mining/)   \n",
        "\n",
        "2. A múlt laborórán megtisztított (`nan`-t nem tartalmazó) adatokra futtassa le az FP-Growth algoritmust, mutassa be a kinyert gyakori mintákat és asszociációs szabályokat.  "
      ]
    },
    {
      "cell_type": "markdown",
      "metadata": {
        "id": "bT5Y93bCHeml"
      },
      "source": [
        "# Feladat 1\n",
        "\n",
        "FP Growth(FPG) vs Apriori\n",
        "\n",
        " - az FPG egy fa szerkezetet épít, az Apriori pedig elemcsoportokat hoz létre\n",
        " - az FPG csak egyszer járja be a datasetet, az Apriori pedig többször, ezért az FPG sokkal gyorsabb\n",
        "\n",
        "\n",
        " Az FPG előnye a gyorsaság.\n",
        " Hátránya az, hogy nagy adathalmaz esetében nem biztos, hogy belefér a memóriába."
      ]
    },
    {
      "cell_type": "markdown",
      "metadata": {
        "id": "dSrqAjoLKJNF"
      },
      "source": [
        "# Feladat 2"
      ]
    },
    {
      "cell_type": "code",
      "metadata": {
        "colab": {
          "resources": {
            "http://localhost:8080/nbextensions/google.colab/files.js": {
              "data": "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",
              "ok": true,
              "headers": [
                [
                  "content-type",
                  "application/javascript"
                ]
              ],
              "status": 200,
              "status_text": ""
            }
          },
          "base_uri": "https://localhost:8080/",
          "height": 619
        },
        "id": "WuvOsP5aKIXq",
        "outputId": "2115ab5c-a7dc-4c1e-b5dc-38c987e9f29b"
      },
      "source": [
        "from google.colab import files\n",
        "files.upload()\n",
        "\n",
        "import numpy as np  \n",
        "import matplotlib.pyplot as plt  \n",
        "import pandas as pd  \n",
        "\n",
        "store_data = pd.read_csv('./store_data_apriori.csv', header=None) \n",
        "store_data.head()\n",
        "\n",
        "records = []  \n",
        "for transaction in store_data.values:\n",
        "  t = [x for x in transaction if str(x) != 'nan']\n",
        "  records.append(t)\n",
        "\n",
        "patterns, rules = mine_fp_growth_association_rules(records, 0.01, 0.1)\n",
        "\n",
        "for r in rules:\n",
        "  print(r)\n",
        "\n",
        "print(\"\\n\")\n",
        "print(patterns)\n"
      ],
      "execution_count": 5,
      "outputs": [
        {
          "output_type": "display_data",
          "data": {
            "text/html": [
              "\n",
              "     <input type=\"file\" id=\"files-ca85d653-7448-4ba4-ab80-9381b3ef8790\" name=\"files[]\" multiple disabled\n",
              "        style=\"border:none\" />\n",
              "     <output id=\"result-ca85d653-7448-4ba4-ab80-9381b3ef8790\">\n",
              "      Upload widget is only available when the cell has been executed in the\n",
              "      current browser session. Please rerun this cell to enable.\n",
              "      </output>\n",
              "      <script src=\"/nbextensions/google.colab/files.js\"></script> "
            ],
            "text/plain": [
              "<IPython.core.display.HTML object>"
            ]
          },
          "metadata": {
            "tags": []
          }
        },
        {
          "output_type": "stream",
          "text": [
            "Saving store_data_apriori.csv to store_data_apriori (2).csv\n",
            "('cereals',)\n",
            "('avocado',)\n",
            "('fresh bread',)\n",
            "('champagne',)\n",
            "('eggs',)\n",
            "('mineral water', 'olive oil')\n",
            "('mineral water', 'spaghetti')\n",
            "('olive oil', 'spaghetti')\n",
            "('mineral water',)\n",
            "('mineral water', 'pancakes')\n",
            "('pancakes', 'spaghetti')\n",
            "('frozen vegetables', 'milk')\n",
            "('frozen vegetables', 'mineral water')\n",
            "('milk', 'mineral water')\n",
            "('frozen vegetables', 'spaghetti')\n",
            "('eggs', 'ground beef')\n",
            "('eggs', 'mineral water')\n",
            "('ground beef', 'mineral water')\n",
            "('ground beef', 'milk')\n",
            "('chocolate', 'ground beef')\n",
            "('chocolate', 'mineral water')\n",
            "('ground beef', 'spaghetti')\n",
            "('eggs', 'milk')\n",
            "('chocolate', 'spaghetti')\n",
            "('milk', 'spaghetti')\n",
            "('eggs', 'spaghetti')\n",
            "('french fries', 'mineral water')\n",
            "('french fries', 'spaghetti')\n",
            "\n",
            "\n",
            "{('nonfat milk',): 78, ('cider',): 79, ('barbecue sauce',): 81, ('magazines',): 82, ('yams',): 86, ('body spray',): 86, ('extra dark chocolate',): 90, ('melons',): 90, ('eggplant',): 99, ('gums',): 101, ('fromage blanc',): 102, ('tomato sauce',): 106, ('black tea',): 107, ('carrots',): 115, ('light cream',): 117, ('pasta',): 118, ('white wine',): 124, ('mint',): 131, ('protein bar',): 139, ('rice',): 141, ('mushroom cream sauce',): 143, ('parmesan cheese',): 149, ('almonds',): 153, ('meatballs',): 157, ('strawberries',): 160, ('fresh tuna',): 167, ('french wine',): 169, ('oil',): 173, ('muffins',): 181, ('vegetables mix',): 193, ('cereals',): 193, ('cereals', 'mineral water'): 77, ('pepper',): 199, ('energy drink',): 200, ('energy bar',): 203, ('ham',): 203, ('light mayo',): 204, ('yogurt cake',): 205, ('red wine', 'spaghetti'): 77, ('mineral water', 'red wine'): 82, ('whole wheat pasta',): 221, ('butter',): 226, ('tomato juice',): 228, ('cottage cheese',): 239, ('hot dogs',): 243, ('avocado',): 250, ('avocado', 'mineral water'): 87, ('brownies',): 253, ('chocolate', 'salmon'): 81, ('salmon', 'spaghetti'): 101, ('mineral water', 'salmon'): 128, ('fresh bread',): 323, ('fresh bread', 'mineral water'): 100, ('champagne',): 351, ('champagne', 'chocolate'): 87, ('honey', 'spaghetti'): 89, ('honey', 'mineral water'): 113, ('eggs', 'herb & pepper'): 94, ('ground beef', 'herb & pepper'): 120, ('herb & pepper', 'spaghetti'): 122, ('herb & pepper', 'mineral water'): 128, ('chocolate', 'soup'): 76, ('soup', 'spaghetti'): 107, ('milk', 'soup'): 114, ('mineral water', 'soup'): 173, ('cooking oil', 'milk'): 86, ('cooking oil', 'eggs'): 88, ('chocolate', 'cooking oil'): 102, ('cooking oil', 'spaghetti'): 119, ('cooking oil', 'mineral water'): 151, ('french fries', 'grated cheese'): 78, ('chocolate', 'grated cheese'): 82, ('grated cheese', 'ground beef'): 85, ('grated cheese', 'spaghetti'): 124, ('grated cheese', 'mineral water'): 131, ('french fries', 'whole wheat rice'): 79, ('eggs', 'whole wheat rice'): 82, ('milk', 'whole wheat rice'): 89, ('chocolate', 'whole wheat rice'): 90, ('spaghetti', 'whole wheat rice'): 106, ('mineral water', 'whole wheat rice'): 151, ('chicken', 'french fries'): 83, ('chicken', 'green tea'): 89, ('chicken', 'eggs'): 108, ('chicken', 'chocolate'): 111, ('chicken', 'milk'): 111, ('chicken', 'spaghetti'): 129, ('chicken', 'mineral water'): 171, ('burgers', 'turkey'): 80, ('french fries', 'turkey'): 80, ('milk', 'turkey'): 85, ('chocolate', 'turkey'): 85, ('green tea', 'turkey'): 89, ('spaghetti', 'turkey'): 124, ('mineral water', 'turkey'): 144, ('eggs', 'turkey'): 146, ('eggs', 'frozen smoothie'): 83, ('frozen smoothie', 'green tea'): 84, ('frozen smoothie', 'milk'): 107, ('french fries', 'frozen smoothie'): 109, ('chocolate', 'frozen smoothie'): 113, ('frozen smoothie', 'spaghetti'): 117, ('frozen smoothie', 'mineral water'): 152, ('olive oil', 'pancakes'): 81, ('frozen vegetables', 'olive oil'): 85, ('eggs', 'olive oil'): 90, ('ground beef', 'olive oil'): 106, ('chocolate', 'olive oil'): 123, ('milk', 'olive oil'): 128, ('olive oil', 'spaghetti'): 172, ('mineral water', 'olive oil', 'spaghetti'): 77, ('mineral water', 'olive oil'): 207, ('shrimp', 'tomatoes'): 84, ('ground beef', 'tomatoes'): 88, ('french fries', 'tomatoes'): 90, ('eggs', 'tomatoes'): 92, ('green tea', 'tomatoes'): 92, ('milk', 'tomatoes'): 105, ('chocolate', 'tomatoes'): 105, ('frozen vegetables', 'tomatoes'): 121, ('spaghetti', 'tomatoes'): 157, ('mineral water', 'tomatoes'): 183, ('pancakes', 'shrimp'): 79, ('green tea', 'shrimp'): 86, ('ground beef', 'shrimp'): 86, ('eggs', 'shrimp'): 106, ('frozen vegetables', 'shrimp'): 125, ('milk', 'shrimp'): 132, ('chocolate', 'shrimp'): 135, ('shrimp', 'spaghetti'): 159, ('mineral water', 'shrimp'): 177, ('frozen vegetables', 'low fat yogurt'): 76, ('low fat yogurt', 'milk'): 99, ('french fries', 'low fat yogurt'): 100, ('chocolate', 'low fat yogurt'): 111, ('low fat yogurt', 'spaghetti'): 114, ('eggs', 'low fat yogurt'): 126, ('low fat yogurt', 'mineral water'): 180, ('eggs', 'escalope'): 83, ('escalope', 'spaghetti'): 105, ('escalope', 'french fries'): 123, ('escalope', 'mineral water'): 128, ('chocolate', 'escalope'): 132, ('chocolate', 'cookies'): 78, ('cookies', 'eggs'): 79, ('cookies', 'green tea'): 90, ('cookies', 'french fries'): 100, ('cake', 'frozen vegetables'): 77, ('burgers', 'cake'): 86, ('cake', 'pancakes'): 89, ('cake', 'milk'): 100, ('cake', 'chocolate'): 102, ('cake', 'green tea'): 106, ('cake', 'french fries'): 134, ('cake', 'spaghetti'): 136, ('cake', 'eggs'): 143, ('cake', 'mineral water'): 206, ('burgers', 'pancakes'): 79, ('burgers', 'frozen vegetables'): 79, ('burgers', 'ground beef'): 90, ('burgers', 'chocolate'): 128, ('burgers', 'green tea'): 131, ('burgers', 'milk'): 134, ('burgers', 'spaghetti'): 161, ('burgers', 'french fries'): 165, ('burgers', 'mineral water'): 183, ('burgers', 'eggs'): 216, ('frozen vegetables', 'pancakes'): 101, ('ground beef', 'pancakes'): 109, ('green tea', 'pancakes'): 123, ('milk', 'pancakes'): 124, ('chocolate', 'pancakes'): 149, ('french fries', 'pancakes'): 151, ('eggs', 'pancakes'): 163, ('pancakes', 'spaghetti'): 189, ('mineral water', 'pancakes', 'spaghetti'): 86, ('mineral water', 'pancakes'): 253, ('frozen vegetables', 'green tea'): 108, ('frozen vegetables', 'ground beef'): 127, ('french fries', 'frozen vegetables'): 143, ('eggs', 'frozen vegetables'): 163, ('chocolate', 'frozen vegetables'): 172, ('frozen vegetables', 'milk'): 177, ('frozen vegetables', 'milk', 'mineral water'): 83, ('frozen vegetables', 'spaghetti'): 209, ('frozen vegetables', 'mineral water', 'spaghetti'): 90, ('frozen vegetables', 'mineral water'): 268, ('french fries', 'ground beef'): 104, ('green tea', 'ground beef'): 111, ('eggs', 'ground beef'): 150, ('eggs', 'ground beef', 'mineral water'): 76, ('ground beef', 'milk'): 165, ('ground beef', 'milk', 'mineral water'): 83, ('chocolate', 'ground beef'): 174, ('chocolate', 'ground beef', 'mineral water'): 83, ('ground beef', 'spaghetti'): 294, ('ground beef', 'mineral water', 'spaghetti'): 128, ('ground beef', 'mineral water'): 307, ('green tea', 'milk'): 132, ('french fries', 'milk'): 178, ('eggs', 'milk'): 231, ('eggs', 'milk', 'mineral water'): 98, ('chocolate', 'milk', 'spaghetti'): 82, ('chocolate', 'milk', 'mineral water'): 105, ('milk', 'spaghetti'): 266, ('milk', 'mineral water', 'spaghetti'): 118, ('milk', 'mineral water'): 360, ('chocolate', 'green tea'): 176, ('eggs', 'green tea'): 191, ('green tea', 'spaghetti'): 199, ('french fries', 'green tea'): 214, ('green tea', 'mineral water'): 233, ('chocolate', 'eggs', 'spaghetti'): 79, ('chocolate', 'eggs', 'mineral water'): 101, ('chocolate', 'french fries'): 258, ('chocolate', 'spaghetti'): 295, ('chocolate', 'mineral water', 'spaghetti'): 120, ('chocolate', 'mineral water'): 396, ('french fries', 'spaghetti'): 207, ('french fries', 'mineral water', 'spaghetti'): 76, ('french fries', 'mineral water'): 253, ('eggs', 'french fries'): 273, ('eggs', 'spaghetti'): 274, ('eggs', 'mineral water', 'spaghetti'): 107, ('mineral water', 'spaghetti'): 448, ('eggs',): 1348, ('eggs', 'mineral water'): 382, ('mineral water',): 1788}\n"
          ],
          "name": "stdout"
        }
      ]
    }
  ]
}